{
 "cells": [
  {
   "cell_type": "markdown",
   "id": "426c11d9-47c2-46be-b9e9-22d294de2bb9",
   "metadata": {},
   "source": [
    "# 0. Install the openai-clip for text feature extracting"
   ]
  },
  {
   "cell_type": "code",
   "execution_count": null,
   "id": "056c2a29-e6d9-48f3-ae06-2f5fac3fa9a1",
   "metadata": {},
   "outputs": [],
   "source": [
    "%pip install open_clip_torch -i https://pypi.tuna.tsinghua.edu.cn/simple"
   ]
  },
  {
   "cell_type": "markdown",
   "id": "9187ea2a-8f4c-460e-b81e-5dcd286f9239",
   "metadata": {},
   "source": [
    "# 1. import the libraries and dataset"
   ]
  },
  {
   "cell_type": "code",
   "execution_count": null,
   "id": "001b6515-323c-49ff-bc7d-8988085d6ad0",
   "metadata": {},
   "outputs": [],
   "source": [
    "import warnings\n",
    "warnings.filterwarnings(\"ignore\")\n",
    "\n",
    "import pandas as pd\n",
    "import numpy as np\n",
    "from sklearn.preprocessing import LabelEncoder, MultiLabelBinarizer\n",
    "import torch\n",
    "import open_clip\n",
    "from PIL import Image\n",
    "from tqdm import tqdm\n",
    "from sklearn.linear_model import SGDClassifier\n",
    "from sklearn.utils import shuffle\n",
    "from collections import Counter\n",
    "from sklearn.model_selection import train_test_split\n",
    "from sklearn.metrics import classification_report\n",
    "import json\n",
    "import random\n",
    "import joblib"
   ]
  },
  {
   "cell_type": "code",
   "execution_count": null,
   "id": "13b12adc-a1c8-467d-99ff-697c25981dac",
   "metadata": {},
   "outputs": [],
   "source": [
    "anime_data_df = pd.read_csv('./anime_data.csv')\n",
    "rating_df = pd.read_csv('./ratings.csv')"
   ]
  },
  {
   "cell_type": "markdown",
   "id": "e78e8cb5-b4e0-430c-bc64-68d72d77e17b",
   "metadata": {},
   "source": [
    "# 2. Prepare for training"
   ]
  },
  {
   "cell_type": "code",
   "execution_count": null,
   "id": "ad6c64c1-a1b7-42f4-af95-7457d1cebbdc",
   "metadata": {},
   "outputs": [],
   "source": [
    "# Set label --- Rate >= 6 stands for Like\n",
    "rating_df['liked'] = rating_df['rating'].apply(lambda x: 1 if x >= 6 else 0)"
   ]
  },
  {
   "cell_type": "code",
   "execution_count": null,
   "id": "60ae1a3e-f0c7-40f9-adeb-bdf5da73d85f",
   "metadata": {},
   "outputs": [],
   "source": [
    "def batch_generator(indexes, rating_df, anime_data_df, batch_size=128):\n",
    "    num_samples = len(indexes)\n",
    "    indexes = np.array(indexes)\n",
    "    for i in range(0, num_samples, batch_size):\n",
    "        batch_idx = indexes[i:i+batch_size]\n",
    "        X_batch = []\n",
    "        y_batch = []\n",
    "        for idx in batch_idx:\n",
    "            row = rating_df.iloc[idx]\n",
    "            anime_id = row['anime_id']\n",
    "            rating = row['rating']\n",
    "            if anime_id in anime_data_df.index:\n",
    "                features = anime_data_df.loc[anime_id].values.astype(np.float32)\n",
    "                label = 1 if rating >= 6 else 0\n",
    "                X_batch.append(features)\n",
    "                y_batch.append(label)\n",
    "        yield np.array(X_batch), np.array(y_batch)"
   ]
  },
  {
   "cell_type": "code",
   "execution_count": null,
   "id": "69379e8f-7947-40d9-adf6-ac16be8cc04b",
   "metadata": {},
   "outputs": [],
   "source": [
    "# Split the dataset\n",
    "train_idx, test_idx = train_test_split(rating_df.index, test_size=0.2, random_state=42)\n",
    "train_idx, val_idx = train_test_split(train_idx, test_size=0.1, random_state=42)"
   ]
  },
  {
   "cell_type": "markdown",
   "id": "1daddea2-8ab6-4192-b866-8b62968ca35b",
   "metadata": {},
   "source": [
    "# 3. Train & Evaluate"
   ]
  },
  {
   "cell_type": "markdown",
   "id": "7ae54635-40c6-4275-8216-253acc9de009",
   "metadata": {},
   "source": [
    "## 3.1 Model Training"
   ]
  },
  {
   "cell_type": "code",
   "execution_count": null,
   "id": "c2240545-181e-4a74-a0c1-947a15ebc720",
   "metadata": {},
   "outputs": [],
   "source": [
    "def balanced_batch_generator(indexes, rating_df, anime_data_df, batch_size=128, neg_pos_ratio=1.0):\n",
    "    # Shuffle the indexes\n",
    "    indexes = list(indexes)\n",
    "    random.shuffle(indexes)\n",
    "    num_samples = len(indexes)\n",
    "    indexes = np.array(indexes)\n",
    "    random.shuffle(indexes)\n",
    "    num_samples = len(indexes)\n",
    "    indexes = np.array(indexes)\n",
    "\n",
    "    for i in range(0, num_samples, batch_size * 2):\n",
    "        batch_idx = indexes[i:i + batch_size * 2]\n",
    "        pos_samples = []\n",
    "        neg_samples = []\n",
    "\n",
    "        for idx in batch_idx:\n",
    "            row = rating_df.iloc[idx]\n",
    "            anime_id = row['anime_id']\n",
    "            rating = row['rating']\n",
    "            if anime_id not in anime_data_df.index:\n",
    "                continue\n",
    "\n",
    "            features = anime_data_df.loc[anime_id].values.astype(np.float32)\n",
    "            label = 1 if rating >= 6 else 0\n",
    "\n",
    "            if label == 1:\n",
    "                pos_samples.append((features, label))\n",
    "            else:\n",
    "                neg_samples.append((features, label))\n",
    "\n",
    "        # Resampling by the given ratio\n",
    "        num_pos = int(min(len(pos_samples), batch_size // (1 + neg_pos_ratio)))\n",
    "        num_neg = int(num_pos * neg_pos_ratio)\n",
    "\n",
    "        pos_samples = random.sample(pos_samples, min(num_pos, len(pos_samples)))\n",
    "        neg_samples = random.choices(neg_samples, k=min(num_neg, len(neg_samples)))\n",
    "\n",
    "        # Combine and Shuffle\n",
    "        batch = pos_samples + neg_samples\n",
    "        random.shuffle(batch)\n",
    "        X_batch, y_batch = zip(*batch)\n",
    "\n",
    "        yield np.array(X_batch), np.array(y_batch)"
   ]
  },
  {
   "cell_type": "code",
   "execution_count": null,
   "id": "3109bf7a-e3c1-4113-bece-62b037c76db8",
   "metadata": {},
   "outputs": [],
   "source": [
    "# Initialize the model\n",
    "model = SGDClassifier(\n",
    "    loss='log_loss',\n",
    "    random_state=42,\n",
    "    max_iter=1000,\n",
    "    tol=1e-3,\n",
    "    n_jobs=-1\n",
    ")\n",
    "\n",
    "# Start the training\n",
    "for epoch in range(10):\n",
    "    print(f\"Epoch {epoch+1}\")\n",
    "    train_generator = balanced_batch_generator(\n",
    "        train_idx, \n",
    "        rating_df, \n",
    "        anime_data_df,\n",
    "        batch_size=4096,\n",
    "        neg_pos_ratio=2.0\n",
    "    )\n",
    "    for X_batch, y_batch in tqdm(train_generator, desc=\"Training\"):\n",
    "        model.partial_fit(X_batch, y_batch, classes=np.array([0, 1]))\n",
    "    # Save the model\n",
    "    joblib.dump(model, f'animeSVCBoost_{epoch+1}.pkl')"
   ]
  },
  {
   "cell_type": "markdown",
   "id": "1b46c785-7409-45ad-bc34-358c7f537814",
   "metadata": {},
   "source": [
    "## 3.2 Evaluation"
   ]
  },
  {
   "cell_type": "code",
   "execution_count": null,
   "id": "657a7a5b-7df5-47e2-9840-c200d35a435b",
   "metadata": {},
   "outputs": [],
   "source": [
    "# Build the tester generator\n",
    "test_generator = batch_generator(test_idx, rating_df, anime_data_df, 4096)\n",
    "\n",
    "all_preds = []\n",
    "all_true = []\n",
    "\n",
    "# Test the model\n",
    "for X_batch, y_batch in tqdm(test_generator, desc=\"Testing Batches\", unit=\"batch\"):\n",
    "    if len(X_batch) > 0:\n",
    "        preds = model1.predict(X_batch)\n",
    "        all_preds.extend(preds)\n",
    "        all_true.extend(y_batch)\n",
    "\n",
    "# Output the results of the test\n",
    "print(\"\\nEvaluation Results:\")\n",
    "print(classification_report(all_true, all_preds, digits=4))"
   ]
  }
 ],
 "metadata": {
  "kernelspec": {
   "display_name": "Python 3 (ipykernel)",
   "language": "python",
   "name": "python3"
  },
  "language_info": {
   "codemirror_mode": {
    "name": "ipython",
    "version": 3
   },
   "file_extension": ".py",
   "mimetype": "text/x-python",
   "name": "python",
   "nbconvert_exporter": "python",
   "pygments_lexer": "ipython3",
   "version": "3.10.16"
  }
 },
 "nbformat": 4,
 "nbformat_minor": 5
}
